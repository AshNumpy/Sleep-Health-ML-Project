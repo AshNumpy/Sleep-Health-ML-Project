{
 "cells": [
  {
   "cell_type": "code",
   "execution_count": 29,
   "metadata": {},
   "outputs": [],
   "source": [
    "contact_page_path = './ContactPage/index.html'\n",
    "contact_page_css_path ='./ContactPage/style.css' "
   ]
  },
  {
   "cell_type": "code",
   "execution_count": 30,
   "metadata": {},
   "outputs": [
    {
     "data": {
      "text/plain": [
       "'\\n<title>Ramazan Erduran</title>\\n<link rel=\"stylesheet\" href=\"https://cdn.jsdelivr.net/npm/bootstrap-icons@1.10.5/font/bootstrap-icons.css\">\\n<body>\\n<div class=\"background\">\\n    <div class=\"container\">\\n    <div class=\"screen\">\\n        <div class=\"screen-header\">\\n        <div class=\"screen-header-left\">\\n            <div class=\"screen-header-button close\"></div>\\n            <div class=\"screen-header-button maximize\"></div>\\n            <div class=\"screen-header-button minimize\"></div>\\n        </div>\\n        <div class=\"screen-header-right\">\\n            <div class=\"screen-header-ellipsis\"></div>\\n            <div class=\"screen-header-ellipsis\"></div>\\n            <div class=\"screen-header-ellipsis\"></div>\\n        </div>\\n        </div>\\n        <div class=\"screen-body\">\\n        <div class=\"screen-body-item left\">\\n            <div class=\"app-title\">\\n            <span>CONTACT ME</span>\\n            </div>\\n            <br>\\n            <br>\\n            <!-- ------------------------------ LINKEDIN ------------------------------ -->\\n            <div style=\"margin-top: 20px; margin-left: 20px; align-items: center; display: flex;\">\\n            <svg xmlns=\"http://www.w3.org/2000/svg\" width=\"24\" height=\"24\" fill=\"#1D4665\" class=\"bi bi-linkedin\" viewBox=\"0 0 16 16\">\\n                <path d=\"M0 1.146C0 .513.526 0 1.175 0h13.65C15.474 0 16 .513 16 1.146v13.708c0 .633-.526 1.146-1.175 1.146H1.175C.526 16 0 15.487 0 14.854V1.146zm4.943 12.248V6.169H2.542v7.225h2.401zm-1.2-8.212c.837 0 1.358-.554 1.358-1.248-.015-.709-.52-1.248-1.342-1.248-.822 0-1.359.54-1.359 1.248 0 .694.521 1.248 1.327 1.248h.016zm4.908 8.212V9.359c0-.216.016-.432.08-.586.173-.431.568-.878 1.232-.878.869 0 1.216.662 1.216 1.634v3.865h2.401V9.25c0-2.22-1.184-3.252-2.764-3.252-1.274 0-1.845.7-2.165 1.193v.025h-.016a5.54 5.54 0 0 1 .016-.025V6.169h-2.4c.03.678 0 7.225 0 7.225h2.4z\"/>\\n            </svg>\\n            <a href=\"https://www.linkedin.com/in/ramazan-erduran\" target=\"_blank\" class=\"linkedin-link\">Ramazan Erduran</a>\\n            </div>            \\n            <!-- ------------------------------- GITHUB -------------------------------- -->\\n            <div style=\"margin-top: 20px; margin-left: 20px; align-items: center; display: flex;\">\\n            <svg xmlns=\"http://www.w3.org/2000/svg\" width=\"24\" height=\"24\" fill=\"#1D4665\" class=\"bi bi-github\" viewBox=\"0 0 16 16\">\\n                <path d=\"M8 0C3.58 0 0 3.58 0 8c0 3.54 2.29 6.53 5.47 7.59.4.07.55-.17.55-.38 0-.19-.01-.82-.01-1.49-2.01.37-2.53-.49-2.69-.94-.09-.23-.48-.94-.82-1.13-.28-.15-.68-.52-.01-.53.63-.01 1.08.58 1.23.82.72 1.21 1.87.87 2.33.66.07-.52.28-.87.51-1.07-1.78-.2-3.64-.89-3.64-3.95 0-.87.31-1.59.82-2.15-.08-.2-.36-1.02.08-2.12 0 0 .67-.21 2.2.82.64-.18 1.32-.27 2-.27.68 0 1.36.09 2 .27 1.53-1.04 2.2-.82 2.2-.82.44 1.1.16 1.92.08 2.12.51.56.82 1.27.82 2.15 0 3.07-1.87 3.75-3.65 3.95.29.25.54.73.54 1.48 0 1.07-.01 1.93-.01 2.2 0 .21.15.46.55.38A8.012 8.012 0 0 0 16 8c0-4.42-3.58-8-8-8z\"/>\\n            </svg>\\n            <a href=\"https://www.github.com/AshNumpy\" target=\"_blank\" class=\"linkedin-link\">AshNumpy</a>\\n            </div>\\n            <!-- ------------------------------- BENTOME -------------------------------- -->\\n            <div style=\"margin-top: 20px; margin-left: 20px; align-items: center; display: flex;\">\\n            <svg xmlns=\"http://www.w3.org/2000/svg\" width=\"24\" height=\"24\" fill=\"#1D4665\" class=\"bi bi-link-45deg\" viewBox=\"0 0 16 16\">\\n                <path d=\"M4.715 6.542 3.343 7.914a3 3 0 1 0 4.243 4.243l1.828-1.829A3 3 0 0 0 8.586 5.5L8 6.086a1.002 1.002 0 0 0-.154.199 2 2 0 0 1 .861 3.337L6.88 11.45a2 2 0 1 1-2.83-2.83l.793-.792a4.018 4.018 0 0 1-.128-1.287z\"/>\\n                <path d=\"M6.586 4.672A3 3 0 0 0 7.414 9.5l.775-.776a2 2 0 0 1-.896-3.346L9.12 3.55a2 2 0 1 1 2.83 2.83l-.793.792c.112.42.155.855.128 1.287l1.372-1.372a3 3 0 1 0-4.243-4.243L6.586 4.672z\"/>\\n            </svg>\\n            <a href=\"https://www.bento.me/ramazanerduran\" target=\"_blank\" class=\"linkedin-link\">BentoMe</a>\\n            </div>\\n            <div class=\"app-contact\">You can also contact me on my social links</div>\\n        </div>\\n        <!-- ------------------------------ SAĞ TARAF ------------------------------ -->\\n        <div class=\"screen-body-item\">\\n            <div class=\"app-form\" style=\"margin-top: 20px;\">\\n            <form action=\"https://formsubmit.co/ramazan.erduran@outlook.com.tr\" method=\"POST\">\\n                <input type=\"hidden\" name=\"_captcha\" value=\"false\">\\n                <div class=\"app-form-group\">\\n                <input class=\"app-form-control\" type=\"text\" name=\"name\" placeholder=\"Name\" required>\\n                </div>\\n                <div class=\"app-form-group\">\\n                <input class=\"app-form-control\" type=\"email\" name=\"email\" placeholder=\"E-Mail\" required>\\n                </div>\\n                <div class=\"app-form-group message\">\\n                <textarea class=\"app-form-control\" name=\"message\" placeholder=\"Message\"></textarea>\\n                </div>\\n                <div class=\"app-form-group buttons\">\\n                <button class=\"app-form-button send-button\" onclick=\"showSentMessage()\" type=\"submit\">SEND</button>\\n                </div>\\n            </form>\\n            </div>\\n        </div>\\n        </div>\\n    </div>\\n    </div>\\n</div>\\n</body>'"
      ]
     },
     "execution_count": 30,
     "metadata": {},
     "output_type": "execute_result"
    }
   ],
   "source": [
    "with open(contact_page_path, 'r', encoding='utf-8') as f:\n",
    "    contact_page = f.read()\n",
    "\n",
    "contact_page"
   ]
  },
  {
   "cell_type": "code",
   "execution_count": 31,
   "metadata": {},
   "outputs": [
    {
     "data": {
      "text/plain": [
       "\"body {\\nbackground: linear-gradient(to right, #1D4665 0%, #176397 100%);\\nfont-size: 12px;\\n}\\n\\n.background {\\ndisplay: flex;\\nmin-height: 100vh;\\n}\\n\\n.container {\\nflex: 0 1 700px;\\n/*margin: auto;*/\\n}\\n\\n.screen {\\nposition: relative;\\nbackground: #ffffff;\\nborder-radius: 15px;\\nbox-shadow: 0 20px 40px rgba(0, 0, 0, .4), 0 0 10px rgba(0, 0, 0, .2);\\nborder-radius: 15px;\\n}\\n\\n.screen-header {\\ndisplay: flex;\\nalign-items: center;\\npadding: 10px 20px;\\nbackground: #1D4665;\\nborder-top-left-radius: 15px;\\nborder-top-right-radius: 15px;\\n}\\n\\n.screen-header-left {\\nmargin-right: auto;\\n}\\n\\n.screen-header-button {\\ndisplay: inline-block;\\nwidth: 8px;\\nheight: 8px;\\nmargin-right: 3px;\\nborder-radius: 8px;\\nbackground: white;\\n}\\n\\n.screen-header-button.close {\\nbackground: #ea1d6f;\\n}\\n\\n.screen-header-button.maximize {\\nbackground: #e8e925;\\n}\\n\\n.screen-header-button.minimize {\\nbackground: #74c54f;\\n}\\n\\n.screen-header-right {\\ndisplay: flex;\\n}\\n\\n.screen-header-ellipsis {\\nwidth: 3px;\\nheight: 3px;\\nmargin-left: 2px;\\nborder-radius: 8px;\\nbackground: white;\\n}\\n\\n.screen-body {\\ndisplay: flex;\\n}\\n\\n.screen-body-item {\\nflex: 1;\\npadding: 50px;\\n}\\n\\n.screen-body-item.left {\\ndisplay: flex;\\nflex-direction: column;\\n}\\n\\n.app-title {\\ndisplay: flex;\\nflex-direction: column;\\nposition: relative;\\ncolor: #1D4665;\\nfont-size: 28px;\\nfont-family: 'Poppins', sans-serif;\\n}\\n\\n.app-title:after {\\ncontent: '';\\ndisplay: block;\\nposition: absolute;\\nleft: 0;\\nbottom: -2px;\\nwidth:20px;\\nheight: 2px;\\nbackground: #1D4665;\\n}\\n\\n.app-contact {\\nmargin-top: auto;\\nfont-size: 8px;\\ncolor: #888;\\nfont-family: 'Poppins', sans-serif;\\n}\\n\\n.app-form-group {\\nmargin-bottom: 15px;\\n}\\n\\n.app-form-group.message {\\nmargin-top: 40px;\\n}\\n\\n.app-form-group.buttons {\\nmargin-bottom: 0;\\ntext-align: right;\\n}\\n\\n.app-form-control {\\nwidth: 100%;\\npadding: 10px 0;\\nbackground: none;\\nborder: none;\\nborder-bottom: 1px solid #666;\\ntext-transform: none;\\ncolor: #ddd;\\nfont-size: 14px;\\nfont-family: 'Poppins', sans-serif;\\noutline: none;\\ntransition: border-color .2s, color .2s;\\n}\\n\\n.app-form-control::placeholder {\\ncolor: #DDDDDD;\\n}\\n\\n.app-form-control:not(:placeholder-shown) {\\nborder-bottom-color: #ddd;\\ncolor: #1D4665; \\n}\\n\\n.app-form-button {\\nbackground: none;\\nborder: none;\\ncolor: #1D4665;\\nfont-size: 14px;\\nfont-family: 'Poppins', sans-serif;\\ncursor: pointer;\\noutline: none;\\ntext-transform: uppercase;\\ntransition: color .2s;\\npadding: 10px 20px;\\nborder-radius: 5px;\\n}\\n\\n.app-form-button.send-button {\\ncolor: #fff;\\nbackground-color: #1D4665;\\n}\\n\\n@media screen and (max-width: 520px) {\\n.screen-body {\\nflex-direction: column;\\n}\\n\\n.screen-body-item.left {\\nmargin-bottom: 30px;\\n}\\n\\n.app-title {\\nflex-direction: row;\\n}\\n\\n.app-title span {\\nmargin-right: 12px;\\n}\\n\\n.screen-body-item {\\npadding: 0;\\n}\\n}\\n\\n.linkedin-link {\\nmargin-left: 8px;\\nfont-size: 14px;\\ntext-decoration: none;\\ncolor: #1D4665;\\ntransition: color 0.2s;\\n}\\n\\n.linkedin-link:hover {\\ncolor: #176397;\\n}\\n\""
      ]
     },
     "execution_count": 31,
     "metadata": {},
     "output_type": "execute_result"
    }
   ],
   "source": [
    "with open(contact_page_css_path, 'r', encoding='utf-8') as f:\n",
    "    contact_page_css = f.read()\n",
    "\n",
    "contact_page_css"
   ]
  },
  {
   "cell_type": "code",
   "execution_count": 32,
   "metadata": {},
   "outputs": [],
   "source": [
    "def get_contact_page(css_path, html_path):\n",
    "    with open(css_path, 'r', encoding='utf-8') as f:\n",
    "        contact_page_css = f.read()\n",
    "    \n",
    "    with open(html_path, 'r', encoding='utf-8') as f:\n",
    "        contact_page = f.read()\n",
    "\n",
    "    return contact_page_css, contact_page"
   ]
  },
  {
   "cell_type": "code",
   "execution_count": 33,
   "metadata": {},
   "outputs": [
    {
     "data": {
      "text/plain": [
       "(\"body {\\nbackground: linear-gradient(to right, #1D4665 0%, #176397 100%);\\nfont-size: 12px;\\n}\\n\\n.background {\\ndisplay: flex;\\nmin-height: 100vh;\\n}\\n\\n.container {\\nflex: 0 1 700px;\\n/*margin: auto;*/\\n}\\n\\n.screen {\\nposition: relative;\\nbackground: #ffffff;\\nborder-radius: 15px;\\nbox-shadow: 0 20px 40px rgba(0, 0, 0, .4), 0 0 10px rgba(0, 0, 0, .2);\\nborder-radius: 15px;\\n}\\n\\n.screen-header {\\ndisplay: flex;\\nalign-items: center;\\npadding: 10px 20px;\\nbackground: #1D4665;\\nborder-top-left-radius: 15px;\\nborder-top-right-radius: 15px;\\n}\\n\\n.screen-header-left {\\nmargin-right: auto;\\n}\\n\\n.screen-header-button {\\ndisplay: inline-block;\\nwidth: 8px;\\nheight: 8px;\\nmargin-right: 3px;\\nborder-radius: 8px;\\nbackground: white;\\n}\\n\\n.screen-header-button.close {\\nbackground: #ea1d6f;\\n}\\n\\n.screen-header-button.maximize {\\nbackground: #e8e925;\\n}\\n\\n.screen-header-button.minimize {\\nbackground: #74c54f;\\n}\\n\\n.screen-header-right {\\ndisplay: flex;\\n}\\n\\n.screen-header-ellipsis {\\nwidth: 3px;\\nheight: 3px;\\nmargin-left: 2px;\\nborder-radius: 8px;\\nbackground: white;\\n}\\n\\n.screen-body {\\ndisplay: flex;\\n}\\n\\n.screen-body-item {\\nflex: 1;\\npadding: 50px;\\n}\\n\\n.screen-body-item.left {\\ndisplay: flex;\\nflex-direction: column;\\n}\\n\\n.app-title {\\ndisplay: flex;\\nflex-direction: column;\\nposition: relative;\\ncolor: #1D4665;\\nfont-size: 28px;\\nfont-family: 'Poppins', sans-serif;\\n}\\n\\n.app-title:after {\\ncontent: '';\\ndisplay: block;\\nposition: absolute;\\nleft: 0;\\nbottom: -2px;\\nwidth:20px;\\nheight: 2px;\\nbackground: #1D4665;\\n}\\n\\n.app-contact {\\nmargin-top: auto;\\nfont-size: 8px;\\ncolor: #888;\\nfont-family: 'Poppins', sans-serif;\\n}\\n\\n.app-form-group {\\nmargin-bottom: 15px;\\n}\\n\\n.app-form-group.message {\\nmargin-top: 40px;\\n}\\n\\n.app-form-group.buttons {\\nmargin-bottom: 0;\\ntext-align: right;\\n}\\n\\n.app-form-control {\\nwidth: 100%;\\npadding: 10px 0;\\nbackground: none;\\nborder: none;\\nborder-bottom: 1px solid #666;\\ntext-transform: none;\\ncolor: #ddd;\\nfont-size: 14px;\\nfont-family: 'Poppins', sans-serif;\\noutline: none;\\ntransition: border-color .2s, color .2s;\\n}\\n\\n.app-form-control::placeholder {\\ncolor: #DDDDDD;\\n}\\n\\n.app-form-control:not(:placeholder-shown) {\\nborder-bottom-color: #ddd;\\ncolor: #1D4665; \\n}\\n\\n.app-form-button {\\nbackground: none;\\nborder: none;\\ncolor: #1D4665;\\nfont-size: 14px;\\nfont-family: 'Poppins', sans-serif;\\ncursor: pointer;\\noutline: none;\\ntext-transform: uppercase;\\ntransition: color .2s;\\npadding: 10px 20px;\\nborder-radius: 5px;\\n}\\n\\n.app-form-button.send-button {\\ncolor: #fff;\\nbackground-color: #1D4665;\\n}\\n\\n@media screen and (max-width: 520px) {\\n.screen-body {\\nflex-direction: column;\\n}\\n\\n.screen-body-item.left {\\nmargin-bottom: 30px;\\n}\\n\\n.app-title {\\nflex-direction: row;\\n}\\n\\n.app-title span {\\nmargin-right: 12px;\\n}\\n\\n.screen-body-item {\\npadding: 0;\\n}\\n}\\n\\n.linkedin-link {\\nmargin-left: 8px;\\nfont-size: 14px;\\ntext-decoration: none;\\ncolor: #1D4665;\\ntransition: color 0.2s;\\n}\\n\\n.linkedin-link:hover {\\ncolor: #176397;\\n}\\n\",\n",
       " '\\n<title>Ramazan Erduran</title>\\n<link rel=\"stylesheet\" href=\"https://cdn.jsdelivr.net/npm/bootstrap-icons@1.10.5/font/bootstrap-icons.css\">\\n<body>\\n<div class=\"background\">\\n    <div class=\"container\">\\n    <div class=\"screen\">\\n        <div class=\"screen-header\">\\n        <div class=\"screen-header-left\">\\n            <div class=\"screen-header-button close\"></div>\\n            <div class=\"screen-header-button maximize\"></div>\\n            <div class=\"screen-header-button minimize\"></div>\\n        </div>\\n        <div class=\"screen-header-right\">\\n            <div class=\"screen-header-ellipsis\"></div>\\n            <div class=\"screen-header-ellipsis\"></div>\\n            <div class=\"screen-header-ellipsis\"></div>\\n        </div>\\n        </div>\\n        <div class=\"screen-body\">\\n        <div class=\"screen-body-item left\">\\n            <div class=\"app-title\">\\n            <span>CONTACT ME</span>\\n            </div>\\n            <br>\\n            <br>\\n            <!-- ------------------------------ LINKEDIN ------------------------------ -->\\n            <div style=\"margin-top: 20px; margin-left: 20px; align-items: center; display: flex;\">\\n            <svg xmlns=\"http://www.w3.org/2000/svg\" width=\"24\" height=\"24\" fill=\"#1D4665\" class=\"bi bi-linkedin\" viewBox=\"0 0 16 16\">\\n                <path d=\"M0 1.146C0 .513.526 0 1.175 0h13.65C15.474 0 16 .513 16 1.146v13.708c0 .633-.526 1.146-1.175 1.146H1.175C.526 16 0 15.487 0 14.854V1.146zm4.943 12.248V6.169H2.542v7.225h2.401zm-1.2-8.212c.837 0 1.358-.554 1.358-1.248-.015-.709-.52-1.248-1.342-1.248-.822 0-1.359.54-1.359 1.248 0 .694.521 1.248 1.327 1.248h.016zm4.908 8.212V9.359c0-.216.016-.432.08-.586.173-.431.568-.878 1.232-.878.869 0 1.216.662 1.216 1.634v3.865h2.401V9.25c0-2.22-1.184-3.252-2.764-3.252-1.274 0-1.845.7-2.165 1.193v.025h-.016a5.54 5.54 0 0 1 .016-.025V6.169h-2.4c.03.678 0 7.225 0 7.225h2.4z\"/>\\n            </svg>\\n            <a href=\"https://www.linkedin.com/in/ramazan-erduran\" target=\"_blank\" class=\"linkedin-link\">Ramazan Erduran</a>\\n            </div>            \\n            <!-- ------------------------------- GITHUB -------------------------------- -->\\n            <div style=\"margin-top: 20px; margin-left: 20px; align-items: center; display: flex;\">\\n            <svg xmlns=\"http://www.w3.org/2000/svg\" width=\"24\" height=\"24\" fill=\"#1D4665\" class=\"bi bi-github\" viewBox=\"0 0 16 16\">\\n                <path d=\"M8 0C3.58 0 0 3.58 0 8c0 3.54 2.29 6.53 5.47 7.59.4.07.55-.17.55-.38 0-.19-.01-.82-.01-1.49-2.01.37-2.53-.49-2.69-.94-.09-.23-.48-.94-.82-1.13-.28-.15-.68-.52-.01-.53.63-.01 1.08.58 1.23.82.72 1.21 1.87.87 2.33.66.07-.52.28-.87.51-1.07-1.78-.2-3.64-.89-3.64-3.95 0-.87.31-1.59.82-2.15-.08-.2-.36-1.02.08-2.12 0 0 .67-.21 2.2.82.64-.18 1.32-.27 2-.27.68 0 1.36.09 2 .27 1.53-1.04 2.2-.82 2.2-.82.44 1.1.16 1.92.08 2.12.51.56.82 1.27.82 2.15 0 3.07-1.87 3.75-3.65 3.95.29.25.54.73.54 1.48 0 1.07-.01 1.93-.01 2.2 0 .21.15.46.55.38A8.012 8.012 0 0 0 16 8c0-4.42-3.58-8-8-8z\"/>\\n            </svg>\\n            <a href=\"https://www.github.com/AshNumpy\" target=\"_blank\" class=\"linkedin-link\">AshNumpy</a>\\n            </div>\\n            <!-- ------------------------------- BENTOME -------------------------------- -->\\n            <div style=\"margin-top: 20px; margin-left: 20px; align-items: center; display: flex;\">\\n            <svg xmlns=\"http://www.w3.org/2000/svg\" width=\"24\" height=\"24\" fill=\"#1D4665\" class=\"bi bi-link-45deg\" viewBox=\"0 0 16 16\">\\n                <path d=\"M4.715 6.542 3.343 7.914a3 3 0 1 0 4.243 4.243l1.828-1.829A3 3 0 0 0 8.586 5.5L8 6.086a1.002 1.002 0 0 0-.154.199 2 2 0 0 1 .861 3.337L6.88 11.45a2 2 0 1 1-2.83-2.83l.793-.792a4.018 4.018 0 0 1-.128-1.287z\"/>\\n                <path d=\"M6.586 4.672A3 3 0 0 0 7.414 9.5l.775-.776a2 2 0 0 1-.896-3.346L9.12 3.55a2 2 0 1 1 2.83 2.83l-.793.792c.112.42.155.855.128 1.287l1.372-1.372a3 3 0 1 0-4.243-4.243L6.586 4.672z\"/>\\n            </svg>\\n            <a href=\"https://www.bento.me/ramazanerduran\" target=\"_blank\" class=\"linkedin-link\">BentoMe</a>\\n            </div>\\n            <div class=\"app-contact\">You can also contact me on my social links</div>\\n        </div>\\n        <!-- ------------------------------ SAĞ TARAF ------------------------------ -->\\n        <div class=\"screen-body-item\">\\n            <div class=\"app-form\" style=\"margin-top: 20px;\">\\n            <form action=\"https://formsubmit.co/ramazan.erduran@outlook.com.tr\" method=\"POST\">\\n                <input type=\"hidden\" name=\"_captcha\" value=\"false\">\\n                <div class=\"app-form-group\">\\n                <input class=\"app-form-control\" type=\"text\" name=\"name\" placeholder=\"Name\" required>\\n                </div>\\n                <div class=\"app-form-group\">\\n                <input class=\"app-form-control\" type=\"email\" name=\"email\" placeholder=\"E-Mail\" required>\\n                </div>\\n                <div class=\"app-form-group message\">\\n                <textarea class=\"app-form-control\" name=\"message\" placeholder=\"Message\"></textarea>\\n                </div>\\n                <div class=\"app-form-group buttons\">\\n                <button class=\"app-form-button send-button\" onclick=\"showSentMessage()\" type=\"submit\">SEND</button>\\n                </div>\\n            </form>\\n            </div>\\n        </div>\\n        </div>\\n    </div>\\n    </div>\\n</div>\\n</body>')"
      ]
     },
     "execution_count": 33,
     "metadata": {},
     "output_type": "execute_result"
    }
   ],
   "source": [
    "get_contact_page(contact_page_css_path, contact_page_path)"
   ]
  },
  {
   "cell_type": "code",
   "execution_count": 34,
   "metadata": {},
   "outputs": [
    {
     "data": {
      "text/html": [
       "<div>\n",
       "<style scoped>\n",
       "    .dataframe tbody tr th:only-of-type {\n",
       "        vertical-align: middle;\n",
       "    }\n",
       "\n",
       "    .dataframe tbody tr th {\n",
       "        vertical-align: top;\n",
       "    }\n",
       "\n",
       "    .dataframe thead th {\n",
       "        text-align: right;\n",
       "    }\n",
       "</style>\n",
       "<table border=\"1\" class=\"dataframe\">\n",
       "  <thead>\n",
       "    <tr style=\"text-align: right;\">\n",
       "      <th></th>\n",
       "      <th>Person ID</th>\n",
       "      <th>Gender</th>\n",
       "      <th>Age</th>\n",
       "      <th>Occupation</th>\n",
       "      <th>Sleep Duration</th>\n",
       "      <th>Quality of Sleep</th>\n",
       "      <th>Physical Activity Level</th>\n",
       "      <th>Stress Level</th>\n",
       "      <th>BMI Category</th>\n",
       "      <th>Heart Rate</th>\n",
       "      <th>Daily Steps</th>\n",
       "      <th>Sleep Disorder</th>\n",
       "      <th>BP High</th>\n",
       "      <th>BP Low</th>\n",
       "      <th>Sick</th>\n",
       "    </tr>\n",
       "  </thead>\n",
       "  <tbody>\n",
       "    <tr>\n",
       "      <th>0</th>\n",
       "      <td>1</td>\n",
       "      <td>Male</td>\n",
       "      <td>27</td>\n",
       "      <td>Software Engineer</td>\n",
       "      <td>6.1</td>\n",
       "      <td>6</td>\n",
       "      <td>42</td>\n",
       "      <td>6</td>\n",
       "      <td>Overweight</td>\n",
       "      <td>77</td>\n",
       "      <td>4200</td>\n",
       "      <td>No Disorder</td>\n",
       "      <td>126</td>\n",
       "      <td>83</td>\n",
       "      <td>0</td>\n",
       "    </tr>\n",
       "    <tr>\n",
       "      <th>1</th>\n",
       "      <td>2</td>\n",
       "      <td>Male</td>\n",
       "      <td>28</td>\n",
       "      <td>Doctor</td>\n",
       "      <td>6.2</td>\n",
       "      <td>6</td>\n",
       "      <td>60</td>\n",
       "      <td>8</td>\n",
       "      <td>Normal</td>\n",
       "      <td>75</td>\n",
       "      <td>10000</td>\n",
       "      <td>No Disorder</td>\n",
       "      <td>125</td>\n",
       "      <td>80</td>\n",
       "      <td>0</td>\n",
       "    </tr>\n",
       "    <tr>\n",
       "      <th>2</th>\n",
       "      <td>3</td>\n",
       "      <td>Male</td>\n",
       "      <td>28</td>\n",
       "      <td>Doctor</td>\n",
       "      <td>6.2</td>\n",
       "      <td>6</td>\n",
       "      <td>60</td>\n",
       "      <td>8</td>\n",
       "      <td>Normal</td>\n",
       "      <td>75</td>\n",
       "      <td>10000</td>\n",
       "      <td>No Disorder</td>\n",
       "      <td>125</td>\n",
       "      <td>80</td>\n",
       "      <td>0</td>\n",
       "    </tr>\n",
       "    <tr>\n",
       "      <th>3</th>\n",
       "      <td>4</td>\n",
       "      <td>Male</td>\n",
       "      <td>28</td>\n",
       "      <td>Sales Representative</td>\n",
       "      <td>5.9</td>\n",
       "      <td>4</td>\n",
       "      <td>30</td>\n",
       "      <td>8</td>\n",
       "      <td>Obese</td>\n",
       "      <td>85</td>\n",
       "      <td>3000</td>\n",
       "      <td>Sleep Apnea</td>\n",
       "      <td>140</td>\n",
       "      <td>90</td>\n",
       "      <td>1</td>\n",
       "    </tr>\n",
       "    <tr>\n",
       "      <th>4</th>\n",
       "      <td>5</td>\n",
       "      <td>Male</td>\n",
       "      <td>28</td>\n",
       "      <td>Sales Representative</td>\n",
       "      <td>5.9</td>\n",
       "      <td>4</td>\n",
       "      <td>30</td>\n",
       "      <td>8</td>\n",
       "      <td>Obese</td>\n",
       "      <td>85</td>\n",
       "      <td>3000</td>\n",
       "      <td>Sleep Apnea</td>\n",
       "      <td>140</td>\n",
       "      <td>90</td>\n",
       "      <td>1</td>\n",
       "    </tr>\n",
       "  </tbody>\n",
       "</table>\n",
       "</div>"
      ],
      "text/plain": [
       "   Person ID Gender  Age            Occupation  Sleep Duration  \\\n",
       "0          1   Male   27     Software Engineer             6.1   \n",
       "1          2   Male   28                Doctor             6.2   \n",
       "2          3   Male   28                Doctor             6.2   \n",
       "3          4   Male   28  Sales Representative             5.9   \n",
       "4          5   Male   28  Sales Representative             5.9   \n",
       "\n",
       "   Quality of Sleep  Physical Activity Level  Stress Level BMI Category  \\\n",
       "0                 6                       42             6   Overweight   \n",
       "1                 6                       60             8       Normal   \n",
       "2                 6                       60             8       Normal   \n",
       "3                 4                       30             8        Obese   \n",
       "4                 4                       30             8        Obese   \n",
       "\n",
       "   Heart Rate  Daily Steps Sleep Disorder  BP High  BP Low  Sick  \n",
       "0          77         4200    No Disorder      126      83     0  \n",
       "1          75        10000    No Disorder      125      80     0  \n",
       "2          75        10000    No Disorder      125      80     0  \n",
       "3          85         3000    Sleep Apnea      140      90     1  \n",
       "4          85         3000    Sleep Apnea      140      90     1  "
      ]
     },
     "execution_count": 34,
     "metadata": {},
     "output_type": "execute_result"
    }
   ],
   "source": [
    "import pandas as pd \n",
    "import numpy as np \n",
    "\n",
    "df = pd.read_csv('./Dataset/dataset.csv')\n",
    "df.head()"
   ]
  },
  {
   "cell_type": "code",
   "execution_count": 35,
   "metadata": {},
   "outputs": [],
   "source": [
    "df.drop(['Person ID', 'Sick'], axis=1, inplace=True)"
   ]
  },
  {
   "cell_type": "code",
   "execution_count": 36,
   "metadata": {},
   "outputs": [
    {
     "data": {
      "text/plain": [
       "['Age',\n",
       " 'Sleep Duration',\n",
       " 'Quality of Sleep',\n",
       " 'Physical Activity Level',\n",
       " 'Heart Rate',\n",
       " 'Daily Steps',\n",
       " 'BP High',\n",
       " 'BP Low']"
      ]
     },
     "execution_count": 36,
     "metadata": {},
     "output_type": "execute_result"
    }
   ],
   "source": [
    "numerical_features = df.select_dtypes(include=np.number).columns.tolist()\n",
    "numerical_features.remove('Stress Level')\n",
    "numerical_features"
   ]
  },
  {
   "cell_type": "code",
   "execution_count": 37,
   "metadata": {},
   "outputs": [],
   "source": [
    "X = df.drop(['Stress Level'], axis=1)\n",
    "y = df['Stress Level']"
   ]
  },
  {
   "cell_type": "code",
   "execution_count": 38,
   "metadata": {},
   "outputs": [],
   "source": [
    "from sklearn.preprocessing import StandardScaler\n",
    "\n",
    "scaler = StandardScaler()\n",
    "X[numerical_features] = scaler.fit_transform(X[numerical_features])"
   ]
  },
  {
   "cell_type": "code",
   "execution_count": 39,
   "metadata": {},
   "outputs": [],
   "source": [
    "from sklearn.preprocessing import LabelEncoder\n",
    "\n",
    "gender_le = LabelEncoder()\n",
    "occupation_le = LabelEncoder()\n",
    "bmiCategory_le = LabelEncoder()\n",
    "sleepDisorder_le = LabelEncoder()"
   ]
  },
  {
   "cell_type": "code",
   "execution_count": 40,
   "metadata": {},
   "outputs": [],
   "source": [
    "X['Gender'] = gender_le.fit_transform(X['Gender'])\n",
    "X['Occupation'] = occupation_le.fit_transform(X['Occupation'])\n",
    "X['BMI Category'] = bmiCategory_le.fit_transform(X['BMI Category'])\n",
    "X['Sleep Disorder'] = sleepDisorder_le.fit_transform(X['Sleep Disorder'])"
   ]
  },
  {
   "cell_type": "code",
   "execution_count": 41,
   "metadata": {},
   "outputs": [
    {
     "data": {
      "text/html": [
       "<style>#sk-container-id-2 {color: black;background-color: white;}#sk-container-id-2 pre{padding: 0;}#sk-container-id-2 div.sk-toggleable {background-color: white;}#sk-container-id-2 label.sk-toggleable__label {cursor: pointer;display: block;width: 100%;margin-bottom: 0;padding: 0.3em;box-sizing: border-box;text-align: center;}#sk-container-id-2 label.sk-toggleable__label-arrow:before {content: \"▸\";float: left;margin-right: 0.25em;color: #696969;}#sk-container-id-2 label.sk-toggleable__label-arrow:hover:before {color: black;}#sk-container-id-2 div.sk-estimator:hover label.sk-toggleable__label-arrow:before {color: black;}#sk-container-id-2 div.sk-toggleable__content {max-height: 0;max-width: 0;overflow: hidden;text-align: left;background-color: #f0f8ff;}#sk-container-id-2 div.sk-toggleable__content pre {margin: 0.2em;color: black;border-radius: 0.25em;background-color: #f0f8ff;}#sk-container-id-2 input.sk-toggleable__control:checked~div.sk-toggleable__content {max-height: 200px;max-width: 100%;overflow: auto;}#sk-container-id-2 input.sk-toggleable__control:checked~label.sk-toggleable__label-arrow:before {content: \"▾\";}#sk-container-id-2 div.sk-estimator input.sk-toggleable__control:checked~label.sk-toggleable__label {background-color: #d4ebff;}#sk-container-id-2 div.sk-label input.sk-toggleable__control:checked~label.sk-toggleable__label {background-color: #d4ebff;}#sk-container-id-2 input.sk-hidden--visually {border: 0;clip: rect(1px 1px 1px 1px);clip: rect(1px, 1px, 1px, 1px);height: 1px;margin: -1px;overflow: hidden;padding: 0;position: absolute;width: 1px;}#sk-container-id-2 div.sk-estimator {font-family: monospace;background-color: #f0f8ff;border: 1px dotted black;border-radius: 0.25em;box-sizing: border-box;margin-bottom: 0.5em;}#sk-container-id-2 div.sk-estimator:hover {background-color: #d4ebff;}#sk-container-id-2 div.sk-parallel-item::after {content: \"\";width: 100%;border-bottom: 1px solid gray;flex-grow: 1;}#sk-container-id-2 div.sk-label:hover label.sk-toggleable__label {background-color: #d4ebff;}#sk-container-id-2 div.sk-serial::before {content: \"\";position: absolute;border-left: 1px solid gray;box-sizing: border-box;top: 0;bottom: 0;left: 50%;z-index: 0;}#sk-container-id-2 div.sk-serial {display: flex;flex-direction: column;align-items: center;background-color: white;padding-right: 0.2em;padding-left: 0.2em;position: relative;}#sk-container-id-2 div.sk-item {position: relative;z-index: 1;}#sk-container-id-2 div.sk-parallel {display: flex;align-items: stretch;justify-content: center;background-color: white;position: relative;}#sk-container-id-2 div.sk-item::before, #sk-container-id-2 div.sk-parallel-item::before {content: \"\";position: absolute;border-left: 1px solid gray;box-sizing: border-box;top: 0;bottom: 0;left: 50%;z-index: -1;}#sk-container-id-2 div.sk-parallel-item {display: flex;flex-direction: column;z-index: 1;position: relative;background-color: white;}#sk-container-id-2 div.sk-parallel-item:first-child::after {align-self: flex-end;width: 50%;}#sk-container-id-2 div.sk-parallel-item:last-child::after {align-self: flex-start;width: 50%;}#sk-container-id-2 div.sk-parallel-item:only-child::after {width: 0;}#sk-container-id-2 div.sk-dashed-wrapped {border: 1px dashed gray;margin: 0 0.4em 0.5em 0.4em;box-sizing: border-box;padding-bottom: 0.4em;background-color: white;}#sk-container-id-2 div.sk-label label {font-family: monospace;font-weight: bold;display: inline-block;line-height: 1.2em;}#sk-container-id-2 div.sk-label-container {text-align: center;}#sk-container-id-2 div.sk-container {/* jupyter's `normalize.less` sets `[hidden] { display: none; }` but bootstrap.min.css set `[hidden] { display: none !important; }` so we also need the `!important` here to be able to override the default hidden behavior on the sphinx rendered scikit-learn.org. See: https://github.com/scikit-learn/scikit-learn/issues/21755 */display: inline-block !important;position: relative;}#sk-container-id-2 div.sk-text-repr-fallback {display: none;}</style><div id=\"sk-container-id-2\" class=\"sk-top-container\"><div class=\"sk-text-repr-fallback\"><pre>LinearRegression()</pre><b>In a Jupyter environment, please rerun this cell to show the HTML representation or trust the notebook. <br />On GitHub, the HTML representation is unable to render, please try loading this page with nbviewer.org.</b></div><div class=\"sk-container\" hidden><div class=\"sk-item\"><div class=\"sk-estimator sk-toggleable\"><input class=\"sk-toggleable__control sk-hidden--visually\" id=\"sk-estimator-id-2\" type=\"checkbox\" checked><label for=\"sk-estimator-id-2\" class=\"sk-toggleable__label sk-toggleable__label-arrow\">LinearRegression</label><div class=\"sk-toggleable__content\"><pre>LinearRegression()</pre></div></div></div></div></div>"
      ],
      "text/plain": [
       "LinearRegression()"
      ]
     },
     "execution_count": 41,
     "metadata": {},
     "output_type": "execute_result"
    }
   ],
   "source": [
    "from sklearn.linear_model import LinearRegression\n",
    "\n",
    "model = LinearRegression()\n",
    "model.fit(X, y)"
   ]
  },
  {
   "cell_type": "code",
   "execution_count": 42,
   "metadata": {},
   "outputs": [
    {
     "data": {
      "text/html": [
       "<div>\n",
       "<style scoped>\n",
       "    .dataframe tbody tr th:only-of-type {\n",
       "        vertical-align: middle;\n",
       "    }\n",
       "\n",
       "    .dataframe tbody tr th {\n",
       "        vertical-align: top;\n",
       "    }\n",
       "\n",
       "    .dataframe thead th {\n",
       "        text-align: right;\n",
       "    }\n",
       "</style>\n",
       "<table border=\"1\" class=\"dataframe\">\n",
       "  <thead>\n",
       "    <tr style=\"text-align: right;\">\n",
       "      <th></th>\n",
       "      <th>Gender</th>\n",
       "      <th>Age</th>\n",
       "      <th>Occupation</th>\n",
       "      <th>Sleep Duration</th>\n",
       "      <th>Quality of Sleep</th>\n",
       "      <th>Physical Activity Level</th>\n",
       "      <th>Stress Level</th>\n",
       "      <th>BMI Category</th>\n",
       "      <th>Heart Rate</th>\n",
       "      <th>Daily Steps</th>\n",
       "      <th>Sleep Disorder</th>\n",
       "      <th>BP High</th>\n",
       "      <th>BP Low</th>\n",
       "    </tr>\n",
       "  </thead>\n",
       "  <tbody>\n",
       "    <tr>\n",
       "      <th>0</th>\n",
       "      <td>Male</td>\n",
       "      <td>27</td>\n",
       "      <td>Software Engineer</td>\n",
       "      <td>6.1</td>\n",
       "      <td>6</td>\n",
       "      <td>42</td>\n",
       "      <td>6</td>\n",
       "      <td>Overweight</td>\n",
       "      <td>77</td>\n",
       "      <td>4200</td>\n",
       "      <td>No Disorder</td>\n",
       "      <td>126</td>\n",
       "      <td>83</td>\n",
       "    </tr>\n",
       "    <tr>\n",
       "      <th>1</th>\n",
       "      <td>Male</td>\n",
       "      <td>28</td>\n",
       "      <td>Doctor</td>\n",
       "      <td>6.2</td>\n",
       "      <td>6</td>\n",
       "      <td>60</td>\n",
       "      <td>8</td>\n",
       "      <td>Normal</td>\n",
       "      <td>75</td>\n",
       "      <td>10000</td>\n",
       "      <td>No Disorder</td>\n",
       "      <td>125</td>\n",
       "      <td>80</td>\n",
       "    </tr>\n",
       "    <tr>\n",
       "      <th>2</th>\n",
       "      <td>Male</td>\n",
       "      <td>28</td>\n",
       "      <td>Doctor</td>\n",
       "      <td>6.2</td>\n",
       "      <td>6</td>\n",
       "      <td>60</td>\n",
       "      <td>8</td>\n",
       "      <td>Normal</td>\n",
       "      <td>75</td>\n",
       "      <td>10000</td>\n",
       "      <td>No Disorder</td>\n",
       "      <td>125</td>\n",
       "      <td>80</td>\n",
       "    </tr>\n",
       "    <tr>\n",
       "      <th>3</th>\n",
       "      <td>Male</td>\n",
       "      <td>28</td>\n",
       "      <td>Sales Representative</td>\n",
       "      <td>5.9</td>\n",
       "      <td>4</td>\n",
       "      <td>30</td>\n",
       "      <td>8</td>\n",
       "      <td>Obese</td>\n",
       "      <td>85</td>\n",
       "      <td>3000</td>\n",
       "      <td>Sleep Apnea</td>\n",
       "      <td>140</td>\n",
       "      <td>90</td>\n",
       "    </tr>\n",
       "    <tr>\n",
       "      <th>4</th>\n",
       "      <td>Male</td>\n",
       "      <td>28</td>\n",
       "      <td>Sales Representative</td>\n",
       "      <td>5.9</td>\n",
       "      <td>4</td>\n",
       "      <td>30</td>\n",
       "      <td>8</td>\n",
       "      <td>Obese</td>\n",
       "      <td>85</td>\n",
       "      <td>3000</td>\n",
       "      <td>Sleep Apnea</td>\n",
       "      <td>140</td>\n",
       "      <td>90</td>\n",
       "    </tr>\n",
       "  </tbody>\n",
       "</table>\n",
       "</div>"
      ],
      "text/plain": [
       "  Gender  Age            Occupation  Sleep Duration  Quality of Sleep  \\\n",
       "0   Male   27     Software Engineer             6.1                 6   \n",
       "1   Male   28                Doctor             6.2                 6   \n",
       "2   Male   28                Doctor             6.2                 6   \n",
       "3   Male   28  Sales Representative             5.9                 4   \n",
       "4   Male   28  Sales Representative             5.9                 4   \n",
       "\n",
       "   Physical Activity Level  Stress Level BMI Category  Heart Rate  \\\n",
       "0                       42             6   Overweight          77   \n",
       "1                       60             8       Normal          75   \n",
       "2                       60             8       Normal          75   \n",
       "3                       30             8        Obese          85   \n",
       "4                       30             8        Obese          85   \n",
       "\n",
       "   Daily Steps Sleep Disorder  BP High  BP Low  \n",
       "0         4200    No Disorder      126      83  \n",
       "1        10000    No Disorder      125      80  \n",
       "2        10000    No Disorder      125      80  \n",
       "3         3000    Sleep Apnea      140      90  \n",
       "4         3000    Sleep Apnea      140      90  "
      ]
     },
     "execution_count": 42,
     "metadata": {},
     "output_type": "execute_result"
    }
   ],
   "source": [
    "df.head()"
   ]
  },
  {
   "cell_type": "code",
   "execution_count": 50,
   "metadata": {},
   "outputs": [
    {
     "data": {
      "text/html": [
       "<div>\n",
       "<style scoped>\n",
       "    .dataframe tbody tr th:only-of-type {\n",
       "        vertical-align: middle;\n",
       "    }\n",
       "\n",
       "    .dataframe tbody tr th {\n",
       "        vertical-align: top;\n",
       "    }\n",
       "\n",
       "    .dataframe thead th {\n",
       "        text-align: right;\n",
       "    }\n",
       "</style>\n",
       "<table border=\"1\" class=\"dataframe\">\n",
       "  <thead>\n",
       "    <tr style=\"text-align: right;\">\n",
       "      <th></th>\n",
       "      <th>Gender</th>\n",
       "      <th>Age</th>\n",
       "      <th>Occupation</th>\n",
       "      <th>Sleep Duration</th>\n",
       "      <th>Quality of Sleep</th>\n",
       "      <th>Physical Activity Level</th>\n",
       "      <th>BMI Category</th>\n",
       "      <th>Heart Rate</th>\n",
       "      <th>Daily Steps</th>\n",
       "      <th>Sleep Disorder</th>\n",
       "      <th>BP High</th>\n",
       "      <th>BP Low</th>\n",
       "    </tr>\n",
       "  </thead>\n",
       "  <tbody>\n",
       "    <tr>\n",
       "      <th>0</th>\n",
       "      <td>Male</td>\n",
       "      <td>20</td>\n",
       "      <td>Doctor</td>\n",
       "      <td>8</td>\n",
       "      <td>5</td>\n",
       "      <td>5</td>\n",
       "      <td>Normal</td>\n",
       "      <td>80</td>\n",
       "      <td>5000</td>\n",
       "      <td>No Disorder</td>\n",
       "      <td>120</td>\n",
       "      <td>80</td>\n",
       "    </tr>\n",
       "  </tbody>\n",
       "</table>\n",
       "</div>"
      ],
      "text/plain": [
       "  Gender  Age Occupation  Sleep Duration  Quality of Sleep  \\\n",
       "0   Male   20     Doctor               8                 5   \n",
       "\n",
       "   Physical Activity Level BMI Category  Heart Rate  Daily Steps  \\\n",
       "0                        5       Normal          80         5000   \n",
       "\n",
       "  Sleep Disorder  BP High  BP Low  \n",
       "0    No Disorder      120      80  "
      ]
     },
     "execution_count": 50,
     "metadata": {},
     "output_type": "execute_result"
    }
   ],
   "source": [
    "prediction = {\n",
    "    'Gender': 'Male',\n",
    "    'Age': 20,\n",
    "    'Occupation': 'Doctor',\n",
    "    'Sleep Duration': 8,\n",
    "    'Quality of Sleep': 5,\n",
    "    'Physical Activity Level': 5,\n",
    "    'BMI Category': 'Normal',\n",
    "    'Heart Rate': 80,\n",
    "    'Daily Steps': 5000,\n",
    "    'Sleep Disorder': 'No Disorder',\n",
    "    'BP High': 120,\n",
    "    'BP Low': 80\n",
    "}\n",
    "\n",
    "prediction = pd.DataFrame(prediction, index=[0])\n",
    "prediction"
   ]
  },
  {
   "cell_type": "code",
   "execution_count": 51,
   "metadata": {},
   "outputs": [
    {
     "data": {
      "text/html": [
       "<div>\n",
       "<style scoped>\n",
       "    .dataframe tbody tr th:only-of-type {\n",
       "        vertical-align: middle;\n",
       "    }\n",
       "\n",
       "    .dataframe tbody tr th {\n",
       "        vertical-align: top;\n",
       "    }\n",
       "\n",
       "    .dataframe thead th {\n",
       "        text-align: right;\n",
       "    }\n",
       "</style>\n",
       "<table border=\"1\" class=\"dataframe\">\n",
       "  <thead>\n",
       "    <tr style=\"text-align: right;\">\n",
       "      <th></th>\n",
       "      <th>Gender</th>\n",
       "      <th>Age</th>\n",
       "      <th>Occupation</th>\n",
       "      <th>Sleep Duration</th>\n",
       "      <th>Quality of Sleep</th>\n",
       "      <th>Physical Activity Level</th>\n",
       "      <th>BMI Category</th>\n",
       "      <th>Heart Rate</th>\n",
       "      <th>Daily Steps</th>\n",
       "      <th>Sleep Disorder</th>\n",
       "      <th>BP High</th>\n",
       "      <th>BP Low</th>\n",
       "    </tr>\n",
       "  </thead>\n",
       "  <tbody>\n",
       "    <tr>\n",
       "      <th>0</th>\n",
       "      <td>1</td>\n",
       "      <td>-2.561267</td>\n",
       "      <td>1</td>\n",
       "      <td>1.092276</td>\n",
       "      <td>-1.934852</td>\n",
       "      <td>-2.604013</td>\n",
       "      <td>0</td>\n",
       "      <td>2.381086</td>\n",
       "      <td>-1.124458</td>\n",
       "      <td>1</td>\n",
       "      <td>-1.105421</td>\n",
       "      <td>-0.75564</td>\n",
       "    </tr>\n",
       "  </tbody>\n",
       "</table>\n",
       "</div>"
      ],
      "text/plain": [
       "   Gender       Age  Occupation  Sleep Duration  Quality of Sleep  \\\n",
       "0       1 -2.561267           1        1.092276         -1.934852   \n",
       "\n",
       "   Physical Activity Level  BMI Category  Heart Rate  Daily Steps  \\\n",
       "0                -2.604013             0    2.381086    -1.124458   \n",
       "\n",
       "   Sleep Disorder   BP High   BP Low  \n",
       "0               1 -1.105421 -0.75564  "
      ]
     },
     "execution_count": 51,
     "metadata": {},
     "output_type": "execute_result"
    }
   ],
   "source": [
    "prediction['Gender'] = gender_le.transform(prediction['Gender'])\n",
    "prediction['Occupation'] = occupation_le.transform(prediction['Occupation'])\n",
    "prediction['BMI Category'] = bmiCategory_le.transform(prediction['BMI Category'])\n",
    "prediction['Sleep Disorder'] = sleepDisorder_le.transform(prediction['Sleep Disorder'])\n",
    "\n",
    "prediction[numerical_features] = scaler.transform(prediction[numerical_features])\n",
    "prediction"
   ]
  },
  {
   "cell_type": "code",
   "execution_count": 53,
   "metadata": {},
   "outputs": [
    {
     "data": {
      "text/plain": [
       "7.7722765253003026"
      ]
     },
     "execution_count": 53,
     "metadata": {},
     "output_type": "execute_result"
    }
   ],
   "source": [
    "y_pred = model.predict(prediction)\n",
    "y_pred[0]"
   ]
  },
  {
   "cell_type": "code",
   "execution_count": 64,
   "metadata": {},
   "outputs": [
    {
     "data": {
      "text/plain": [
       "['./Models/scaler.pkl']"
      ]
     },
     "execution_count": 64,
     "metadata": {},
     "output_type": "execute_result"
    }
   ],
   "source": [
    "import joblib\n",
    "\n",
    "joblib.dump(gender_le, './Models/gender_encoder.pkl')\n",
    "joblib.dump(occupation_le, './Models/occupation_encoder.pkl')\n",
    "joblib.dump(bmiCategory_le, './Models/bmi_category_encoder.pkl')\n",
    "joblib.dump(sleepDisorder_le, './Models/sleep_disorder_encoder.pkl')\n",
    "\n",
    "joblib.dump(scaler, './Models/scaler.pkl')"
   ]
  },
  {
   "cell_type": "code",
   "execution_count": null,
   "metadata": {},
   "outputs": [],
   "source": [
    "import pickle\n",
    "\n",
    "pickle.dump(model, open('./Models/model.pkl', 'wb'))"
   ]
  },
  {
   "cell_type": "code",
   "execution_count": 63,
   "metadata": {},
   "outputs": [
    {
     "data": {
      "text/plain": [
       "(4, 9)"
      ]
     },
     "execution_count": 63,
     "metadata": {},
     "output_type": "execute_result"
    }
   ],
   "source": [
    "col = 'Quality of Sleep'\n",
    "\n",
    "df[col].min(), df[col].max()"
   ]
  },
  {
   "cell_type": "code",
   "execution_count": null,
   "metadata": {},
   "outputs": [],
   "source": []
  }
 ],
 "metadata": {
  "kernelspec": {
   "display_name": "Python 3",
   "language": "python",
   "name": "python3"
  },
  "language_info": {
   "codemirror_mode": {
    "name": "ipython",
    "version": 3
   },
   "file_extension": ".py",
   "mimetype": "text/x-python",
   "name": "python",
   "nbconvert_exporter": "python",
   "pygments_lexer": "ipython3",
   "version": "3.11.3"
  },
  "orig_nbformat": 4
 },
 "nbformat": 4,
 "nbformat_minor": 2
}
